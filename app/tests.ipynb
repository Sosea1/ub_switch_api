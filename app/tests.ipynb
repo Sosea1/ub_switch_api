{
 "cells": [
  {
   "cell_type": "code",
   "execution_count": 14,
   "metadata": {},
   "outputs": [
    {
     "name": "stdout",
     "output_type": "stream",
     "text": [
      "False\n"
     ]
    }
   ],
   "source": [
    "import yaml\n",
    "\n",
    "string = \"\"\"\n",
    "{'rest': \n",
    "  { 'url': 'https://example.org/primenumbers/v1',\n",
    "    'port': 8443\n",
    "  },\n",
    "  'prime_numbers': { 'url': 'aaaa',\n",
    "    'port': 8443\n",
    "  }\n",
    "  }\n",
    "  \"\"\"\n",
    "  \n",
    "data = yaml.safe_load(string)\n",
    "keys = list(data.keys())\n",
    "print(keys)"
   ]
  },
  {
   "cell_type": "code",
   "execution_count": 3,
   "metadata": {},
   "outputs": [
    {
     "name": "stdout",
     "output_type": "stream",
     "text": [
      "['1', 'vport1']\n"
     ]
    }
   ],
   "source": [
    "string = \"\"\"1(vport1)\"\"\"\n",
    "temp = string.replace(')','').split('(')\n",
    "print(temp)"
   ]
  }
 ],
 "metadata": {
  "kernelspec": {
   "display_name": "Python 3",
   "language": "python",
   "name": "python3"
  },
  "language_info": {
   "codemirror_mode": {
    "name": "ipython",
    "version": 3
   },
   "file_extension": ".py",
   "mimetype": "text/x-python",
   "name": "python",
   "nbconvert_exporter": "python",
   "pygments_lexer": "ipython3",
   "version": "3.10.0"
  }
 },
 "nbformat": 4,
 "nbformat_minor": 2
}
